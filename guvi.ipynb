{
 "cells": [
  {
   "cell_type": "code",
   "execution_count": null,
   "metadata": {},
   "outputs": [],
   "source": [
    "!pip install transformers datasets torch\n",
    "!pip install accelerate -U"
   ]
  },
  {
   "cell_type": "code",
   "execution_count": 1,
   "metadata": {},
   "outputs": [
    {
     "name": "stderr",
     "output_type": "stream",
     "text": [
      "d:\\Anaconda\\envs\\python3.12\\Lib\\site-packages\\tqdm\\auto.py:21: TqdmWarning: IProgress not found. Please update jupyter and ipywidgets. See https://ipywidgets.readthedocs.io/en/stable/user_install.html\n",
      "  from .autonotebook import tqdm as notebook_tqdm\n"
     ]
    }
   ],
   "source": [
    "import os\n",
    "import re\n",
    "from transformers import GPT2Tokenizer\n",
    "\n",
    "def preprocess_data(input_file, output_file, tokenizer_name=\"gpt2\"):\n",
    "    tokenizer = GPT2Tokenizer.from_pretrained(tokenizer_name)\n",
    "    with open(input_file, 'r', encoding='utf-8') as f:\n",
    "        lines = f.readlines()\n",
    "\n",
    "    with open(output_file, 'w', encoding='utf-8') as f:\n",
    "        for line in lines:\n",
    "            line = line.lower()\n",
    "\n",
    "            # Tokenize the line\n",
    "            token_ids = tokenizer.encode(line, add_special_tokens=False)\n",
    "            # Convert token IDs back to tokens\n",
    "            tokenized_line = tokenizer.convert_ids_to_tokens(token_ids)\n",
    "            # Convert tokens to text and remove special tokens\n",
    "            processed_line = \" \".join(tokenized_line).replace('Ġ', '').replace('Ċ', '').replace('�', '').strip()\n",
    "\n",
    "            processed_line = re.sub(r'[^a-zA-Z0-9\\s,():%&]', '', processed_line)\n",
    "            processed_line = re.sub(r'\\bgu vi\\b', 'guvi', processed_line)\n",
    "\n",
    "            # Remove extra spaces\n",
    "            processed_line = re.sub(r'\\s+', ' ', processed_line)\n",
    "            # Write the processed line to the output file\n",
    "            f.write(processed_line + \"\\n\")\n",
    "\n",
    "input_file = r\"C:\\Users\\ss996\\OneDrive\\Desktop\\Projects\\P6-guvi\\guvi_data.txt\"  # Make sure this path is correct\n",
    "output_file = \"processed_data.txt\"\n",
    "preprocess_data(input_file, output_file)"
   ]
  },
  {
   "cell_type": "code",
   "execution_count": 2,
   "metadata": {},
   "outputs": [
    {
     "name": "stderr",
     "output_type": "stream",
     "text": [
      "Error while downloading from https://cdn-lfs.hf.co/gpt2/248dfc3911869ec493c76e65bf2fcf7f615828b0254c12b473182f0f81d3a707?response-content-disposition=inline%3B+filename*%3DUTF-8%27%27model.safetensors%3B+filename%3D%22model.safetensors%22%3B&Expires=1736049016&Policy=eyJTdGF0ZW1lbnQiOlt7IkNvbmRpdGlvbiI6eyJEYXRlTGVzc1RoYW4iOnsiQVdTOkVwb2NoVGltZSI6MTczNjA0OTAxNn19LCJSZXNvdXJjZSI6Imh0dHBzOi8vY2RuLWxmcy5oZi5jby9ncHQyLzI0OGRmYzM5MTE4NjllYzQ5M2M3NmU2NWJmMmZjZjdmNjE1ODI4YjAyNTRjMTJiNDczMTgyZjBmODFkM2E3MDc%7EcmVzcG9uc2UtY29udGVudC1kaXNwb3NpdGlvbj0qIn1dfQ__&Signature=FZcFl3s5swRKs86lATqJmax9BhjWC6cIoJemP0lB0FeZtNnTVA7Uz9jVtKC%7EFy-I046xzS8XqlAxXcNV-2hsEy6I-u%7Ey8lmK%7E75GUdTbTyQOsmCWQkUAt9C%7EihRg4SF0Iz1jtomzidCBDxG9FUz80FupH4-DQN9FWTecc8pvXkE2eQtsT6ZAs27EBNQOvODPknzPzRvzNMIlYhl%7Ex0iO9C0-zwvJujanr8eRAXExPnVb6NGlTazvjrMcVK2tR3ww7ao0NfmjqjJ8iugHlV1Fa8gtiS5%7EGHK-8uz6S0RjQUeLYmI6LXYazBSu3B6I2r2sP2w88in9yZDyA8pFUanAxw__&Key-Pair-Id=K3RPWS32NSSJCE: [SSL: DECRYPTION_FAILED_OR_BAD_RECORD_MAC] decryption failed or bad record mac (_ssl.c:2559)\n",
      "Trying to resume download...\n",
      "Error while downloading from https://cdn-lfs.hf.co/gpt2/248dfc3911869ec493c76e65bf2fcf7f615828b0254c12b473182f0f81d3a707?response-content-disposition=inline%3B+filename*%3DUTF-8%27%27model.safetensors%3B+filename%3D%22model.safetensors%22%3B&Expires=1736049016&Policy=eyJTdGF0ZW1lbnQiOlt7IkNvbmRpdGlvbiI6eyJEYXRlTGVzc1RoYW4iOnsiQVdTOkVwb2NoVGltZSI6MTczNjA0OTAxNn19LCJSZXNvdXJjZSI6Imh0dHBzOi8vY2RuLWxmcy5oZi5jby9ncHQyLzI0OGRmYzM5MTE4NjllYzQ5M2M3NmU2NWJmMmZjZjdmNjE1ODI4YjAyNTRjMTJiNDczMTgyZjBmODFkM2E3MDc%7EcmVzcG9uc2UtY29udGVudC1kaXNwb3NpdGlvbj0qIn1dfQ__&Signature=FZcFl3s5swRKs86lATqJmax9BhjWC6cIoJemP0lB0FeZtNnTVA7Uz9jVtKC%7EFy-I046xzS8XqlAxXcNV-2hsEy6I-u%7Ey8lmK%7E75GUdTbTyQOsmCWQkUAt9C%7EihRg4SF0Iz1jtomzidCBDxG9FUz80FupH4-DQN9FWTecc8pvXkE2eQtsT6ZAs27EBNQOvODPknzPzRvzNMIlYhl%7Ex0iO9C0-zwvJujanr8eRAXExPnVb6NGlTazvjrMcVK2tR3ww7ao0NfmjqjJ8iugHlV1Fa8gtiS5%7EGHK-8uz6S0RjQUeLYmI6LXYazBSu3B6I2r2sP2w88in9yZDyA8pFUanAxw__&Key-Pair-Id=K3RPWS32NSSJCE: [SSL: DECRYPTION_FAILED_OR_BAD_RECORD_MAC] decryption failed or bad record mac (_ssl.c:2559)\n",
      "Trying to resume download...\n",
      "d:\\Anaconda\\envs\\python3.12\\Lib\\site-packages\\huggingface_hub\\file_download.py:140: UserWarning: `huggingface_hub` cache-system uses symlinks by default to efficiently store duplicated files but your machine does not support them in C:\\Users\\ss996\\.cache\\huggingface\\hub\\models--gpt2. Caching files will still work but in a degraded version that might require more space on your disk. This warning can be disabled by setting the `HF_HUB_DISABLE_SYMLINKS_WARNING` environment variable. For more details, see https://huggingface.co/docs/huggingface_hub/how-to-cache#limitations.\n",
      "To support symlinks on Windows, you either need to activate Developer Mode or to run Python as an administrator. In order to activate developer mode, see this article: https://docs.microsoft.com/en-us/windows/apps/get-started/enable-your-device-for-development\n",
      "  warnings.warn(message)\n",
      "d:\\Anaconda\\envs\\python3.12\\Lib\\site-packages\\transformers\\data\\datasets\\language_modeling.py:53: FutureWarning: This dataset will be removed from the library soon, preprocessing should be handled with the 🤗 Datasets library. You can have a look at this example script for pointers: https://github.com/huggingface/transformers/blob/main/examples/pytorch/language-modeling/run_mlm.py\n",
      "  warnings.warn(\n",
      "100%|██████████| 345/345 [18:14<00:00,  3.17s/it]\n"
     ]
    },
    {
     "name": "stdout",
     "output_type": "stream",
     "text": [
      "{'train_runtime': 1094.811, 'train_samples_per_second': 1.247, 'train_steps_per_second': 0.315, 'train_loss': 3.306143498075181, 'epoch': 5.0}\n"
     ]
    },
    {
     "data": {
      "text/plain": [
       "('./fine_tuned_model\\\\tokenizer_config.json',\n",
       " './fine_tuned_model\\\\special_tokens_map.json',\n",
       " './fine_tuned_model\\\\vocab.json',\n",
       " './fine_tuned_model\\\\merges.txt',\n",
       " './fine_tuned_model\\\\added_tokens.json')"
      ]
     },
     "execution_count": 2,
     "metadata": {},
     "output_type": "execute_result"
    }
   ],
   "source": [
    "from transformers import GPT2Tokenizer, GPT2LMHeadModel, Trainer, TrainingArguments, TextDataset, DataCollatorForLanguageModeling\n",
    "\n",
    "# Load pre-trained model and tokenizer\n",
    "model_name = \"gpt2\"\n",
    "tokenizer = GPT2Tokenizer.from_pretrained(model_name)\n",
    "model = GPT2LMHeadModel.from_pretrained(model_name)\n",
    "\n",
    "# Create dataset\n",
    "def load_dataset(file_path, tokenizer, block_size=128):\n",
    "    return TextDataset(\n",
    "        tokenizer=tokenizer,\n",
    "        file_path=file_path,\n",
    "        block_size=block_size,\n",
    "    )\n",
    "\n",
    "train_dataset = load_dataset(output_file, tokenizer)\n",
    "\n",
    "# Define training arguments\n",
    "training_args = TrainingArguments(\n",
    "    output_dir=\"./results\",\n",
    "    overwrite_output_dir=True,\n",
    "    num_train_epochs=5,\n",
    "    per_device_train_batch_size=4,\n",
    "    save_steps=10_000,\n",
    "    save_total_limit=2,\n",
    ")\n",
    "\n",
    "# Initialize data collator\n",
    "data_collator = DataCollatorForLanguageModeling(\n",
    "    tokenizer=tokenizer,\n",
    "    mlm=False,\n",
    ")\n",
    "\n",
    "# Initialize Trainer\n",
    "trainer = Trainer(\n",
    "    model=model,\n",
    "    args=training_args,\n",
    "    data_collator=data_collator,\n",
    "    train_dataset=train_dataset,\n",
    ")\n",
    "\n",
    "# Fine-tune the model\n",
    "trainer.train()\n",
    "\n",
    "# Save the fine-tuned model and tokenizer\n",
    "model.save_pretrained(\"./fine_tuned_model\")\n",
    "tokenizer.save_pretrained(\"./fine_tuned_model\")\n",
    "\n",
    "# 6689a1b60c0e560ff167d6fbb07df3f499b21d6b"
   ]
  },
  {
   "cell_type": "code",
   "execution_count": 3,
   "metadata": {},
   "outputs": [
    {
     "name": "stdout",
     "output_type": "stream",
     "text": [
      "Generated Text 1:\n",
      "guvi is a free online learning platform that offers courses in various languages , including english , tam il , guvi offers courses in various languages , including english , tam il , guvi offers courses in various languages , including tam il , guvi offers\n",
      "\n"
     ]
    }
   ],
   "source": [
    "from transformers import GPT2LMHeadModel, GPT2Tokenizer\n",
    "import torch\n",
    "\n",
    "# Load the fine-tuned model and tokenizer\n",
    "model_name_or_path = \"./fine_tuned_model\"\n",
    "model = GPT2LMHeadModel.from_pretrained(model_name_or_path)\n",
    "tokenizer = GPT2Tokenizer.from_pretrained(model_name_or_path)\n",
    "\n",
    "# Set the pad_token to eos_token if it's not already set\n",
    "if tokenizer.pad_token is None:\n",
    "    tokenizer.pad_token = tokenizer.eos_token\n",
    "\n",
    "# Move the model to GPU if available\n",
    "device = torch.device(\"cuda\" if torch.cuda.is_available() else \"cpu\")\n",
    "model.to(device)\n",
    "\n",
    "\n",
    "# Define the text generation function\n",
    "def generate_text(model, tokenizer, seed_text, max_length=100, temperature=1.0, num_return_sequences=1):\n",
    "    # Tokenize the input text with padding\n",
    "    inputs = tokenizer(seed_text, return_tensors='pt', padding=True, truncation=True)\n",
    "\n",
    "    input_ids = inputs['input_ids'].to(device)\n",
    "    attention_mask = inputs['attention_mask'].to(device)\n",
    "\n",
    "    # Generate text\n",
    "    with torch.no_grad():\n",
    "        output = model.generate(\n",
    "            input_ids,\n",
    "            attention_mask=attention_mask,\n",
    "            max_length=max_length,\n",
    "            temperature=temperature,\n",
    "            num_return_sequences=num_return_sequences,\n",
    "            do_sample=True,\n",
    "            top_k=50,\n",
    "            top_p=0.50,\n",
    "            pad_token_id=tokenizer.eos_token_id  # Ensure padding token is set to eos_token_id\n",
    "        )\n",
    "\n",
    "    # Decode the generated text\n",
    "    generated_texts = []\n",
    "    for i in range(num_return_sequences):\n",
    "        generated_text = tokenizer.decode(output[i], skip_special_tokens=True)\n",
    "        generated_texts.append(generated_text)\n",
    "\n",
    "    return generated_texts\n",
    "\n",
    "# Test the model\n",
    "seed_text = input(\"Enter seed text: \")\n",
    "generated_texts = generate_text(model, tokenizer, seed_text, max_length=50, temperature=0.001, num_return_sequences=1)\n",
    "\n",
    "for i, text in enumerate(generated_texts):\n",
    "    print(f\"Generated Text {i + 1}:\\n{text}\\n\")"
   ]
  },
  {
   "cell_type": "code",
   "execution_count": null,
   "metadata": {},
   "outputs": [],
   "source": []
  },
  {
   "cell_type": "code",
   "execution_count": null,
   "metadata": {},
   "outputs": [],
   "source": []
  },
  {
   "cell_type": "code",
   "execution_count": null,
   "metadata": {},
   "outputs": [],
   "source": []
  }
 ],
 "metadata": {
  "kernelspec": {
   "display_name": "python3.12",
   "language": "python",
   "name": "python3"
  },
  "language_info": {
   "codemirror_mode": {
    "name": "ipython",
    "version": 3
   },
   "file_extension": ".py",
   "mimetype": "text/x-python",
   "name": "python",
   "nbconvert_exporter": "python",
   "pygments_lexer": "ipython3",
   "version": "3.12.3"
  }
 },
 "nbformat": 4,
 "nbformat_minor": 2
}
